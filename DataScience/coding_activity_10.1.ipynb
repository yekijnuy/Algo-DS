{
 "cells": [
  {
   "cell_type": "markdown",
   "metadata": {
    "nbgrader": {
     "grade": false,
     "grade_id": "cell-2894236e4db61fcf",
     "locked": true,
     "schema_version": 1,
     "solution": false
    }
   },
   "source": [
    "### Codio Activity 10.1: Working with Dates in `pandas`\n",
    "\n",
    "**Estimated Time: 45 Minutes**\n",
    "\n",
    "**Total Points: 40**\n",
    "\n",
    "This activity focuses on working with datetime objects in pandas.  There is a good deal of functionality built into a DataFrame when working with datetime objects.  Specifically, you will examine how to convert dates to datetime objects using `pd.to_datetime`.  Also, you will examine how to use pandas to set the datetime as an index and use the dates to select specific data. \n",
    "\n",
    "\n",
    "#### Index\n",
    "\n",
    "- [Problem 1](#Problem-1)\n",
    "- [Problem 2](#Problem-2)\n",
    "- [Problem 3](#Problem-3)\n",
    "- [Problem 4](#Problem-4)\n"
   ]
  },
  {
   "cell_type": "code",
   "execution_count": 1,
   "metadata": {
    "nbgrader": {
     "grade": false,
     "grade_id": "cell-1834d7251404c989",
     "locked": true,
     "schema_version": 1,
     "solution": false
    }
   },
   "outputs": [],
   "source": [
    "import pandas as pd\n",
    "import numpy as np"
   ]
  },
  {
   "cell_type": "markdown",
   "metadata": {
    "nbgrader": {
     "grade": false,
     "grade_id": "cell-071fdd4d885a45f2",
     "locked": true,
     "schema_version": 1,
     "solution": false
    }
   },
   "source": [
    "[Back to top](#-Index)\n",
    "\n",
    "### Problem 1\n",
    "\n",
    "#### Using `pd.to_datetime`\n",
    "\n",
    "**10 Points**\n",
    "\n",
    "As you saw demonstrated, the `pd.to_datetime` function takes in a string representing a date and converts it to a datetime object.  This is a specific datatype in pandas.  Below, you are given a string `adate` representing a date, and are to use the `to_datetime` method to convert the string to a datetime object.  Assign your solution as `adatetime` below."
   ]
  },
  {
   "cell_type": "code",
   "execution_count": 2,
   "metadata": {
    "nbgrader": {
     "grade": false,
     "grade_id": "cell-b9d73f33a9330151",
     "locked": false,
     "schema_version": 1,
     "solution": true
    }
   },
   "outputs": [
    {
     "name": "stdout",
     "output_type": "stream",
     "text": [
      "2000-01-01 00:00:00\n",
      "<class 'pandas._libs.tslibs.timestamps.Timestamp'>\n"
     ]
    }
   ],
   "source": [
    "### GRADED\n",
    "\n",
    "adate = '01-01-2000'\n",
    "adatetime = ''\n",
    "\n",
    "### BEGIN SOLUTION\n",
    "adatetime = pd.to_datetime(adate)\n",
    "### END SOLUTION\n",
    "\n",
    "# Answer check\n",
    "print(adatetime)\n",
    "print(type(adatetime))"
   ]
  },
  {
   "cell_type": "code",
   "execution_count": 3,
   "metadata": {
    "nbgrader": {
     "grade": true,
     "grade_id": "cell-37e0a9d4e242f3ad",
     "locked": true,
     "points": 10,
     "schema_version": 1,
     "solution": false
    }
   },
   "outputs": [],
   "source": [
    "### BEGIN HIDDEN TESTS\n",
    "adate_ = '01-01-2000'\n",
    "adatetime_ = pd.to_datetime(adate)\n",
    "#\n",
    "#\n",
    "#\n",
    "assert type(adatetime_) == type(adatetime)\n",
    "assert adatetime_ == adatetime\n",
    "### END HIDDEN TESTS"
   ]
  },
  {
   "cell_type": "markdown",
   "metadata": {
    "nbgrader": {
     "grade": false,
     "grade_id": "cell-8d380398cd625e05",
     "locked": true,
     "schema_version": 1,
     "solution": false
    }
   },
   "source": [
    "[Back to top](#-Index)\n",
    "\n",
    "### Problem 2\n",
    "\n",
    "#### Dates in a `DataFrame`\n",
    "\n",
    "**10 Points**\n",
    "\n",
    "Below, you are given a small DataFrame `sample_df` with two columns -- `date` and `price`.  The `date` features is string datatype.  You are to change the column to a datetime object.\n",
    "\n",
    "Update the `date` column of the `data` DataFrame as datetime type.  "
   ]
  },
  {
   "cell_type": "code",
   "execution_count": 4,
   "metadata": {
    "nbgrader": {
     "grade": false,
     "grade_id": "cell-7d6abca989eb0a30",
     "locked": true,
     "schema_version": 1,
     "solution": false
    }
   },
   "outputs": [
    {
     "data": {
      "text/html": [
       "<div>\n",
       "<style scoped>\n",
       "    .dataframe tbody tr th:only-of-type {\n",
       "        vertical-align: middle;\n",
       "    }\n",
       "\n",
       "    .dataframe tbody tr th {\n",
       "        vertical-align: top;\n",
       "    }\n",
       "\n",
       "    .dataframe thead th {\n",
       "        text-align: right;\n",
       "    }\n",
       "</style>\n",
       "<table border=\"1\" class=\"dataframe\">\n",
       "  <thead>\n",
       "    <tr style=\"text-align: right;\">\n",
       "      <th></th>\n",
       "      <th>price</th>\n",
       "      <th>date</th>\n",
       "    </tr>\n",
       "  </thead>\n",
       "  <tbody>\n",
       "    <tr>\n",
       "      <th>0</th>\n",
       "      <td>10.24</td>\n",
       "      <td>11-01-2020</td>\n",
       "    </tr>\n",
       "    <tr>\n",
       "      <th>1</th>\n",
       "      <td>11.34</td>\n",
       "      <td>11-02-2021</td>\n",
       "    </tr>\n",
       "    <tr>\n",
       "      <th>2</th>\n",
       "      <td>14.72</td>\n",
       "      <td>11-03-2021</td>\n",
       "    </tr>\n",
       "    <tr>\n",
       "      <th>3</th>\n",
       "      <td>13.90</td>\n",
       "      <td>11-04-2021</td>\n",
       "    </tr>\n",
       "    <tr>\n",
       "      <th>4</th>\n",
       "      <td>15.03</td>\n",
       "      <td>11-05-2021</td>\n",
       "    </tr>\n",
       "  </tbody>\n",
       "</table>\n",
       "</div>"
      ],
      "text/plain": [
       "   price        date\n",
       "0  10.24  11-01-2020\n",
       "1  11.34  11-02-2021\n",
       "2  14.72  11-03-2021\n",
       "3  13.90  11-04-2021\n",
       "4  15.03  11-05-2021"
      ]
     },
     "execution_count": 4,
     "metadata": {},
     "output_type": "execute_result"
    }
   ],
   "source": [
    "data = {'price': [10.24, 11.34, 14.72, 13.90, 15.03],\n",
    "       'date': ['11-01-2020', '11-02-2021', '11-03-2021', '11-04-2021', '11-05-2021']}\n",
    "sample_df = pd.DataFrame(data)\n",
    "sample_df"
   ]
  },
  {
   "cell_type": "code",
   "execution_count": 5,
   "metadata": {
    "nbgrader": {
     "grade": false,
     "grade_id": "cell-c38415f80ad6d972",
     "locked": false,
     "schema_version": 1,
     "solution": true
    }
   },
   "outputs": [
    {
     "name": "stdout",
     "output_type": "stream",
     "text": [
      "0   2020-11-01\n",
      "1   2021-11-02\n",
      "2   2021-11-03\n",
      "3   2021-11-04\n",
      "4   2021-11-05\n",
      "Name: date, dtype: datetime64[ns]\n",
      "price           float64\n",
      "date     datetime64[ns]\n",
      "dtype: object\n"
     ]
    }
   ],
   "source": [
    "### GRADED\n",
    "\n",
    "sample_df['date'] = data['date']\n",
    "\n",
    "### BEGIN SOLUTION\n",
    "sample_df['date'] = pd.to_datetime(sample_df['date'])\n",
    "### END SOLUTION\n",
    "\n",
    "# Answer check\n",
    "print(sample_df['date'])\n",
    "print(sample_df.dtypes)"
   ]
  },
  {
   "cell_type": "code",
   "execution_count": 6,
   "metadata": {
    "nbgrader": {
     "grade": true,
     "grade_id": "cell-0ec097d862b8c89b",
     "locked": true,
     "points": 10,
     "schema_version": 1,
     "solution": false
    }
   },
   "outputs": [],
   "source": [
    "### BEGIN HIDDEN TESTS\n",
    "sample_df_ = pd.DataFrame(data)\n",
    "sample_df_['date'] = pd.to_datetime(sample_df_['date'])\n",
    "#\n",
    "#\n",
    "#\n",
    "pd.testing.assert_series_equal(sample_df['date'], sample_df_['date'])\n",
    "### END HIDDEN TESTS"
   ]
  },
  {
   "cell_type": "markdown",
   "metadata": {
    "nbgrader": {
     "grade": false,
     "grade_id": "cell-2c6c5e290b26717d",
     "locked": true,
     "schema_version": 1,
     "solution": false
    }
   },
   "source": [
    "[Back to top](#-Index)\n",
    "\n",
    "### Problem 3\n",
    "\n",
    "#### Extracting information from `datetime` objects\n",
    "\n",
    "**10 Points**\n",
    "\n",
    "\n",
    "If a pandas series has a column of type `datetime` you can extract information about the given date using the `.dt` function followed by the appropriate datetime method.  For example, in the above problem we would be able to extract the month of each row with:\n",
    "\n",
    "```python\n",
    "sample_df['date'].dt.month\n",
    "```\n",
    "\n",
    "Below, a DataFrame containing oil prices in Bolivia is loaded.  You are to convert the `date` column to a datetime object and create a new column named `month` that contains the month of each price observation."
   ]
  },
  {
   "cell_type": "code",
   "execution_count": 7,
   "metadata": {
    "nbgrader": {
     "grade": false,
     "grade_id": "cell-a83be81af02b966f",
     "locked": true,
     "schema_version": 1,
     "solution": false
    }
   },
   "outputs": [
    {
     "data": {
      "text/html": [
       "<div>\n",
       "<style scoped>\n",
       "    .dataframe tbody tr th:only-of-type {\n",
       "        vertical-align: middle;\n",
       "    }\n",
       "\n",
       "    .dataframe tbody tr th {\n",
       "        vertical-align: top;\n",
       "    }\n",
       "\n",
       "    .dataframe thead th {\n",
       "        text-align: right;\n",
       "    }\n",
       "</style>\n",
       "<table border=\"1\" class=\"dataframe\">\n",
       "  <thead>\n",
       "    <tr style=\"text-align: right;\">\n",
       "      <th></th>\n",
       "      <th>date</th>\n",
       "      <th>dcoilwtico</th>\n",
       "    </tr>\n",
       "  </thead>\n",
       "  <tbody>\n",
       "    <tr>\n",
       "      <th>0</th>\n",
       "      <td>2013-01-01</td>\n",
       "      <td>NaN</td>\n",
       "    </tr>\n",
       "    <tr>\n",
       "      <th>1</th>\n",
       "      <td>2013-01-02</td>\n",
       "      <td>93.14</td>\n",
       "    </tr>\n",
       "    <tr>\n",
       "      <th>2</th>\n",
       "      <td>2013-01-03</td>\n",
       "      <td>92.97</td>\n",
       "    </tr>\n",
       "    <tr>\n",
       "      <th>3</th>\n",
       "      <td>2013-01-04</td>\n",
       "      <td>93.12</td>\n",
       "    </tr>\n",
       "    <tr>\n",
       "      <th>4</th>\n",
       "      <td>2013-01-07</td>\n",
       "      <td>93.20</td>\n",
       "    </tr>\n",
       "  </tbody>\n",
       "</table>\n",
       "</div>"
      ],
      "text/plain": [
       "         date  dcoilwtico\n",
       "0  2013-01-01         NaN\n",
       "1  2013-01-02       93.14\n",
       "2  2013-01-03       92.97\n",
       "3  2013-01-04       93.12\n",
       "4  2013-01-07       93.20"
      ]
     },
     "execution_count": 7,
     "metadata": {},
     "output_type": "execute_result"
    }
   ],
   "source": [
    "oil = pd.read_csv('data/oil.csv')\n",
    "oil.head()"
   ]
  },
  {
   "cell_type": "code",
   "execution_count": 8,
   "metadata": {
    "nbgrader": {
     "grade": false,
     "grade_id": "cell-10ea606349f31935",
     "locked": false,
     "schema_version": 1,
     "solution": true
    }
   },
   "outputs": [
    {
     "name": "stdout",
     "output_type": "stream",
     "text": [
      "Counts of months in data\n",
      "==================\n",
      "7     111\n",
      "5     111\n",
      "1     111\n",
      "8     110\n",
      "3     110\n",
      "6     107\n",
      "4     107\n",
      "2     101\n",
      "12     90\n",
      "10     89\n",
      "9      87\n",
      "11     84\n",
      "Name: month, dtype: int64\n"
     ]
    }
   ],
   "source": [
    "### GRADED\n",
    "\n",
    "### BEGIN SOLUTION\n",
    "oil['date'] = pd.to_datetime(oil['date'])\n",
    "oil['month'] = oil['date'].dt.month\n",
    "### END SOLUTION\n",
    "\n",
    "# Answer check\n",
    "print('Counts of months in data\\n==================')\n",
    "print(oil['month'].value_counts())"
   ]
  },
  {
   "cell_type": "code",
   "execution_count": 9,
   "metadata": {
    "nbgrader": {
     "grade": true,
     "grade_id": "cell-50aea2af374d4611",
     "locked": true,
     "points": 10,
     "schema_version": 1,
     "solution": false
    }
   },
   "outputs": [],
   "source": [
    "### BEGIN HIDDEN TESTS\n",
    "oil_ = pd.read_csv('data/oil.csv')\n",
    "oil_['date'] = pd.to_datetime(oil_['date'])\n",
    "oil_['month'] = oil_['date'].dt.month\n",
    "#\n",
    "#\n",
    "#\n",
    "pd.testing.assert_series_equal(oil['month'], oil_['month'])\n",
    "### END HIDDEN TESTS"
   ]
  },
  {
   "cell_type": "markdown",
   "metadata": {
    "nbgrader": {
     "grade": false,
     "grade_id": "cell-56f61e7493336dcf",
     "locked": true,
     "schema_version": 1,
     "solution": false
    }
   },
   "source": [
    "[Back to top](#-Index)\n",
    "\n",
    "### Problem 4\n",
    "\n",
    "#### Slicing data with `datetime` index\n",
    "\n",
    "**10 Points**\n",
    "\n",
    "One feature of using a `datetime` as an index is the ability to slice data using the dates.  For example, in the below data containing Microsoft stock data from the year 2020, once the date column is converted to `datetime` and is set as the index, we could slice all dates after March 1st with\n",
    "\n",
    "```python\n",
    "msft['2020-03-01':]\n",
    "```\n",
    "\n",
    "Using the `msft` data, change the `Date` column to `datetime` and set it to the index of the DataFrame.  Use the datetime index to select days between June 21st and September 22nd.  Assign the slice to the variable `msft_summer` below.  "
   ]
  },
  {
   "cell_type": "code",
   "execution_count": 10,
   "metadata": {
    "nbgrader": {
     "grade": false,
     "grade_id": "cell-bf38183eb24ec426",
     "locked": true,
     "schema_version": 1,
     "solution": false
    }
   },
   "outputs": [
    {
     "name": "stdout",
     "output_type": "stream",
     "text": [
      "<class 'pandas.core.frame.DataFrame'>\n",
      "RangeIndex: 253 entries, 0 to 252\n",
      "Data columns (total 7 columns):\n",
      " #   Column     Non-Null Count  Dtype  \n",
      "---  ------     --------------  -----  \n",
      " 0   Date       253 non-null    object \n",
      " 1   High       253 non-null    float64\n",
      " 2   Low        253 non-null    float64\n",
      " 3   Open       253 non-null    float64\n",
      " 4   Close      253 non-null    float64\n",
      " 5   Volume     253 non-null    float64\n",
      " 6   Adj Close  253 non-null    float64\n",
      "dtypes: float64(6), object(1)\n",
      "memory usage: 14.0+ KB\n"
     ]
    }
   ],
   "source": [
    "msft = pd.read_csv('data/msft.csv')\n",
    "msft.info()"
   ]
  },
  {
   "cell_type": "code",
   "execution_count": 11,
   "metadata": {
    "nbgrader": {
     "grade": false,
     "grade_id": "cell-566911d6b32570d1",
     "locked": false,
     "schema_version": 1,
     "solution": true
    }
   },
   "outputs": [
    {
     "data": {
      "text/html": [
       "<div>\n",
       "<style scoped>\n",
       "    .dataframe tbody tr th:only-of-type {\n",
       "        vertical-align: middle;\n",
       "    }\n",
       "\n",
       "    .dataframe tbody tr th {\n",
       "        vertical-align: top;\n",
       "    }\n",
       "\n",
       "    .dataframe thead th {\n",
       "        text-align: right;\n",
       "    }\n",
       "</style>\n",
       "<table border=\"1\" class=\"dataframe\">\n",
       "  <thead>\n",
       "    <tr style=\"text-align: right;\">\n",
       "      <th></th>\n",
       "      <th>High</th>\n",
       "      <th>Low</th>\n",
       "      <th>Open</th>\n",
       "      <th>Close</th>\n",
       "      <th>Volume</th>\n",
       "      <th>Adj Close</th>\n",
       "    </tr>\n",
       "    <tr>\n",
       "      <th>Date</th>\n",
       "      <th></th>\n",
       "      <th></th>\n",
       "      <th></th>\n",
       "      <th></th>\n",
       "      <th></th>\n",
       "      <th></th>\n",
       "    </tr>\n",
       "  </thead>\n",
       "  <tbody>\n",
       "    <tr>\n",
       "      <th>2020-06-22</th>\n",
       "      <td>200.759995</td>\n",
       "      <td>195.229996</td>\n",
       "      <td>195.789993</td>\n",
       "      <td>200.570007</td>\n",
       "      <td>32818900.0</td>\n",
       "      <td>197.904968</td>\n",
       "    </tr>\n",
       "    <tr>\n",
       "      <th>2020-06-23</th>\n",
       "      <td>203.949997</td>\n",
       "      <td>201.429993</td>\n",
       "      <td>202.089996</td>\n",
       "      <td>201.910004</td>\n",
       "      <td>30917400.0</td>\n",
       "      <td>199.227173</td>\n",
       "    </tr>\n",
       "    <tr>\n",
       "      <th>2020-06-24</th>\n",
       "      <td>203.250000</td>\n",
       "      <td>196.559998</td>\n",
       "      <td>201.600006</td>\n",
       "      <td>197.839996</td>\n",
       "      <td>36740600.0</td>\n",
       "      <td>195.211227</td>\n",
       "    </tr>\n",
       "    <tr>\n",
       "      <th>2020-06-25</th>\n",
       "      <td>200.610001</td>\n",
       "      <td>195.470001</td>\n",
       "      <td>197.800003</td>\n",
       "      <td>200.339996</td>\n",
       "      <td>27803900.0</td>\n",
       "      <td>197.678024</td>\n",
       "    </tr>\n",
       "    <tr>\n",
       "      <th>2020-06-26</th>\n",
       "      <td>199.889999</td>\n",
       "      <td>194.880005</td>\n",
       "      <td>199.729996</td>\n",
       "      <td>196.330002</td>\n",
       "      <td>54675800.0</td>\n",
       "      <td>193.721298</td>\n",
       "    </tr>\n",
       "  </tbody>\n",
       "</table>\n",
       "</div>"
      ],
      "text/plain": [
       "                  High         Low        Open       Close      Volume  \\\n",
       "Date                                                                     \n",
       "2020-06-22  200.759995  195.229996  195.789993  200.570007  32818900.0   \n",
       "2020-06-23  203.949997  201.429993  202.089996  201.910004  30917400.0   \n",
       "2020-06-24  203.250000  196.559998  201.600006  197.839996  36740600.0   \n",
       "2020-06-25  200.610001  195.470001  197.800003  200.339996  27803900.0   \n",
       "2020-06-26  199.889999  194.880005  199.729996  196.330002  54675800.0   \n",
       "\n",
       "             Adj Close  \n",
       "Date                    \n",
       "2020-06-22  197.904968  \n",
       "2020-06-23  199.227173  \n",
       "2020-06-24  195.211227  \n",
       "2020-06-25  197.678024  \n",
       "2020-06-26  193.721298  "
      ]
     },
     "execution_count": 11,
     "metadata": {},
     "output_type": "execute_result"
    }
   ],
   "source": [
    "### GRADED\n",
    "\n",
    "\n",
    "### BEGIN SOLUTION\n",
    "msft = pd.read_csv('data/msft.csv')\n",
    "msft['Date'] = pd.to_datetime(msft['Date'])\n",
    "msft = msft.set_index('Date')\n",
    "msft_summer = msft['2020-06-21':'2020-09-22']\n",
    "### END SOLUTION\n",
    "\n",
    "# Answer check\n",
    "msft_summer.head()"
   ]
  },
  {
   "cell_type": "code",
   "execution_count": 12,
   "metadata": {
    "nbgrader": {
     "grade": true,
     "grade_id": "cell-1e00e65abe375a85",
     "locked": true,
     "points": 10,
     "schema_version": 1,
     "solution": false
    }
   },
   "outputs": [],
   "source": [
    "### BEGIN HIDDEN TESTS\n",
    "msft_ = pd.read_csv('data/msft.csv')\n",
    "msft_['Date'] = pd.to_datetime(msft_['Date'])\n",
    "msft_ = msft_.set_index('Date')\n",
    "msft_summer_ = msft_['2020-06-21':'2020-09-22']\n",
    "#\n",
    "#\n",
    "#\n",
    "pd.testing.assert_frame_equal(msft_summer, msft_summer_)\n",
    "### END HIDDEN TESTS"
   ]
  }
 ],
 "metadata": {
  "celltoolbar": "Create Assignment",
  "kernelspec": {
   "display_name": "Python 3",
   "language": "python",
   "name": "python3"
  },
  "language_info": {
   "codemirror_mode": {
    "name": "ipython",
    "version": 3
   },
   "file_extension": ".py",
   "mimetype": "text/x-python",
   "name": "python",
   "nbconvert_exporter": "python",
   "pygments_lexer": "ipython3",
   "version": "3.6.9"
  },
  "widgets": {
   "application/vnd.jupyter.widget-state+json": {
    "state": {},
    "version_major": 2,
    "version_minor": 0
   }
  }
 },
 "nbformat": 4,
 "nbformat_minor": 4
}
