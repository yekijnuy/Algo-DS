{
 "cells": [
  {
   "cell_type": "markdown",
   "metadata": {
    "nbgrader": {
     "grade": false,
     "grade_id": "cell-7abaacafd6d5c8c2",
     "locked": true,
     "schema_version": 1,
     "solution": false
    }
   },
   "source": [
    "### Codio Activity 10.3: Decomposition\n",
    "\n",
    "**Estimated time: 45 minutes**\n",
    "\n",
    "**40 Points**\n",
    "\n",
    "This activity focuses on performing a decomposition of a time series following the discussion in videos 10.6 - 10.9.  You will build models on time series using statsmodels and its decomposition capabilities."
   ]
  },
  {
   "cell_type": "markdown",
   "metadata": {
    "nbgrader": {
     "grade": false,
     "grade_id": "cell-31c2a3e0557769fd",
     "locked": true,
     "schema_version": 1,
     "solution": false
    }
   },
   "source": [
    "#### Index\n",
    "\n",
    "- [Problem 1](#Problem-1)\n",
    "- [Problem 2](#Problem-2)\n",
    "- [Problem 3](#Problem-3)\n",
    "- [Problem 4](#Problem-4)\n",
    "- [Problem 5](#Problem-5)"
   ]
  },
  {
   "cell_type": "markdown",
   "metadata": {
    "nbgrader": {
     "grade": false,
     "grade_id": "cell-e27802f94a5c58fd",
     "locked": true,
     "schema_version": 1,
     "solution": false
    }
   },
   "source": [
    "### The Data\n",
    "\n",
    "For this activity, we use a different built in dataset from statsmodels containing monthly measurements of CO2 at the Mauna Loa Observatory in Hawaii.  From the documentation:\n",
    "\n",
    "```\n",
    "An Applied Physics Corporation (APC) nondispersive infrared gas analyzer was used to obtain atmospheric CO2 concentrations, based on continuous data (four measurements per hour) from atop intake lines on several towers. Steady data periods of not less than six hours per day are required; if no such six-hour periods are available on any given day, then no data are used that day. Weekly averages were calculated for most weeks throughout the approximately 44 years of record. The continuous data for year 2000 is compared with flask data from the same site in the graphics section\n",
    "```\n",
    "\n",
    "Note that the measurements are in monthly steps.  Your goal is to build a model for the co2 measurements using decomposition with statsmodels tools.  We will use both the `STL` and `STLForecast` objects to accomplish this.  \n",
    "\n",
    "Below, the data is loaded and cleaned up.  "
   ]
  },
  {
   "cell_type": "code",
   "execution_count": 1,
   "metadata": {},
   "outputs": [],
   "source": [
    "import pandas as pd\n",
    "import numpy as np\n",
    "import plotly.express as px\n",
    "import matplotlib.pyplot as plt\n",
    "\n",
    "\n",
    "import statsmodels.api as sm\n",
    "from statsmodels.tsa.filters.filtertools import convolution_filter\n",
    "import statsmodels.graphics.tsaplots as tsplots\n",
    "from statsmodels.tsa.seasonal import seasonal_decompose, STL\n",
    "from statsmodels.tsa.forecasting.stl import STLForecast\n",
    "from statsmodels.tsa.arima.model import ARIMA"
   ]
  },
  {
   "cell_type": "code",
   "execution_count": 2,
   "metadata": {},
   "outputs": [],
   "source": [
    "co2 = sm.datasets.get_rdataset('co2')\n",
    "co2 = co2.data\n",
    "co2['time'] = pd.to_datetime(co2['time'])\n",
    "co2 = co2.set_index(pd.date_range('1-1-1959', periods = len(co2), freq = 'M')).drop('time', axis = 1)"
   ]
  },
  {
   "cell_type": "code",
   "execution_count": 39,
   "metadata": {},
   "outputs": [
    {
     "data": {
      "text/html": [
       "<div>\n",
       "<style scoped>\n",
       "    .dataframe tbody tr th:only-of-type {\n",
       "        vertical-align: middle;\n",
       "    }\n",
       "\n",
       "    .dataframe tbody tr th {\n",
       "        vertical-align: top;\n",
       "    }\n",
       "\n",
       "    .dataframe thead th {\n",
       "        text-align: right;\n",
       "    }\n",
       "</style>\n",
       "<table border=\"1\" class=\"dataframe\">\n",
       "  <thead>\n",
       "    <tr style=\"text-align: right;\">\n",
       "      <th></th>\n",
       "      <th>value</th>\n",
       "    </tr>\n",
       "  </thead>\n",
       "  <tbody>\n",
       "    <tr>\n",
       "      <th>1959-01-31</th>\n",
       "      <td>315.42</td>\n",
       "    </tr>\n",
       "    <tr>\n",
       "      <th>1959-02-28</th>\n",
       "      <td>316.31</td>\n",
       "    </tr>\n",
       "    <tr>\n",
       "      <th>1959-03-31</th>\n",
       "      <td>316.50</td>\n",
       "    </tr>\n",
       "    <tr>\n",
       "      <th>1959-04-30</th>\n",
       "      <td>317.56</td>\n",
       "    </tr>\n",
       "    <tr>\n",
       "      <th>1959-05-31</th>\n",
       "      <td>318.13</td>\n",
       "    </tr>\n",
       "  </tbody>\n",
       "</table>\n",
       "</div>"
      ],
      "text/plain": [
       "             value\n",
       "1959-01-31  315.42\n",
       "1959-02-28  316.31\n",
       "1959-03-31  316.50\n",
       "1959-04-30  317.56\n",
       "1959-05-31  318.13"
      ]
     },
     "execution_count": 39,
     "metadata": {},
     "output_type": "execute_result"
    }
   ],
   "source": [
    "co2.head()"
   ]
  },
  {
   "cell_type": "code",
   "execution_count": 38,
   "metadata": {},
   "outputs": [
    {
     "data": {
      "image/png": "[encoded data removed]",
      "text/plain": [
       "<Figure size 432x288 with 1 Axes>"
      ]
     },
     "metadata": {
      "needs_background": "light"
     },
     "output_type": "display_data"
    }
   ],
   "source": [
    "plt.plot(co2)\n",
    "plt.title('CO2 Data', loc = 'left')\n",
    "plt.grid();"
   ]
  },
  {
   "cell_type": "markdown",
   "metadata": {
    "nbgrader": {
     "grade": false,
     "grade_id": "cell-85489a69cbb35d8c",
     "locked": true,
     "schema_version": 1,
     "solution": false
    }
   },
   "source": [
    "[Back to top](#-Index)\n",
    "\n",
    "### Problem 1\n",
    "\n",
    "#### Build historical and future datasets\n",
    "\n",
    "**10 Points**\n",
    "\n",
    "To begin, split the data at the year 1995.  Observations prior to 1995 will be `y_hist` and values after will be `y_future`.  Uncomment the code to plot your results.  "
   ]
  },
  {
   "cell_type": "code",
   "execution_count": 6,
   "metadata": {
    "nbgrader": {
     "grade": false,
     "grade_id": "cell-b75df64c1b99e14b",
     "locked": false,
     "schema_version": 1,
     "solution": true
    }
   },
   "outputs": [
    {
     "name": "stdout",
     "output_type": "stream",
     "text": [
      "Historical:\n",
      "             value\n",
      "1994-08-31  357.49\n",
      "1994-09-30  355.84\n",
      "1994-10-31  356.00\n",
      "1994-11-30  357.59\n",
      "1994-12-31  359.05\n",
      "=========\n",
      "Future:\n",
      "             value\n",
      "1995-01-31  359.98\n",
      "1995-02-28  361.03\n",
      "1995-03-31  361.66\n",
      "1995-04-30  363.48\n",
      "1995-05-31  363.82\n"
     ]
    }
   ],
   "source": [
    "### GRADED\n",
    "\n",
    "y_hist = ''\n",
    "y_future = ''\n",
    "\n",
    "### BEGIN SOLUTION\n",
    "y_hist = co2[:'01-01-1995']\n",
    "y_future = co2['01-01-1995':]\n",
    "### END SOLUTION\n",
    "\n",
    "# Answer check\n",
    "print('Historical:')\n",
    "print(y_hist.tail())\n",
    "print('=========\\nFuture:')\n",
    "print(y_future.head())"
   ]
  },
  {
   "cell_type": "code",
   "execution_count": 7,
   "metadata": {
    "nbgrader": {
     "grade": true,
     "grade_id": "cell-4e86e28c68aa682e",
     "locked": true,
     "points": 10,
     "schema_version": 1,
     "solution": false
    }
   },
   "outputs": [],
   "source": [
    "### BEGIN HIDDEN TESTS\n",
    "y_hist_ = co2[:'01-01-1995']\n",
    "y_future_ = co2['01-01-1995':]\n",
    "#\n",
    "#\n",
    "#\n",
    "pd.testing.assert_frame_equal(y_hist, y_hist_)\n",
    "pd.testing.assert_frame_equal(y_future, y_future_)\n",
    "### END HIDDEN TESTS"
   ]
  },
  {
   "cell_type": "code",
   "execution_count": 8,
   "metadata": {},
   "outputs": [],
   "source": [
    "# plt.plot(y_hist, label = 'historical')\n",
    "# plt.plot(y_future, label = 'future')\n",
    "# plt.legend();"
   ]
  },
  {
   "cell_type": "markdown",
   "metadata": {
    "nbgrader": {
     "grade": false,
     "grade_id": "cell-1388fc8b7e76d3c7",
     "locked": true,
     "schema_version": 1,
     "solution": false
    }
   },
   "source": [
    "[Back to top](#-Index)\n",
    "\n",
    "### Problem 2\n",
    "\n",
    "#### Extracting the trend\n",
    "\n",
    "**10 Points**\n",
    "\n",
    "For our exercise, we will use a built in estimator from statsmodels -- the `STL` model.  To use this model, create an instance of the `STL` estimator and pass `y_hist` and a period value of 12.  \n",
    "\n",
    "Use the `stl` instance to fit the model, assigning the fit results to `results` below.  This results object will contain the trend as an attribute.  Uncomment the code to see the trend plotted with the original data after fitting."
   ]
  },
  {
   "cell_type": "code",
   "execution_count": 9,
   "metadata": {
    "nbgrader": {
     "grade": false,
     "grade_id": "cell-e39fa299fb03815e",
     "locked": false,
     "schema_version": 1,
     "solution": true
    }
   },
   "outputs": [],
   "source": [
    "### GRADED\n",
    "\n",
    "stl = ''\n",
    "results = ''\n",
    "\n",
    "### BEGIN SOLUTION\n",
    "stl = STL(y_hist, period = 12)\n",
    "results = stl.fit()\n",
    "### END SOLUTION\n",
    "\n",
    "## Answer check\n",
    "# plt.plot(results.trend)\n",
    "# plt.plot(y_hist)\n",
    "# plt.title('Trend with CO2 Data')"
   ]
  },
  {
   "cell_type": "code",
   "execution_count": 10,
   "metadata": {
    "nbgrader": {
     "grade": true,
     "grade_id": "cell-b215424a631d3b55",
     "locked": true,
     "points": 10,
     "schema_version": 1,
     "solution": false
    }
   },
   "outputs": [],
   "source": [
    "### BEGIN HIDDEN TESTS\n",
    "y_hist_ = co2[:'01-01-1995']\n",
    "y_future_ = co2['01-01-1995':]\n",
    "stl_ = STL(y_hist, period = 12)\n",
    "results_ = stl_.fit()\n",
    "trend = results.trend\n",
    "trend_ = results_.trend\n",
    "#\n",
    "#\n",
    "#\n",
    "pd.testing.assert_series_equal(trend, trend_)\n",
    "### END HIDDEN TESTS"
   ]
  },
  {
   "cell_type": "markdown",
   "metadata": {
    "nbgrader": {
     "grade": false,
     "grade_id": "cell-626c72c1a2f629d1",
     "locked": true,
     "schema_version": 1,
     "solution": false
    }
   },
   "source": [
    "[Back to top](#Index)\n",
    "\n",
    "### Problem 3\n",
    "\n",
    "#### Model Historical Data\n",
    "\n",
    "**10 Points**\n",
    "\n",
    "As demonstrated in the lectures, additive or multiplicative models can be used to combine the seasonality and trend.  Here, the `results` object is an additive model, meaning that to reproduce our training data involves adding the `.seasonal` attribute to the `.trend` attribute.  Do this below and assign the added season and trend to the variable `season_and_trend` below.  Uncomment the code to view the plot for the last three years of the historical data.\n",
    "\n"
   ]
  },
  {
   "cell_type": "code",
   "execution_count": 52,
   "metadata": {
    "nbgrader": {
     "grade": false,
     "grade_id": "cell-a103a635a110966a",
     "locked": false,
     "schema_version": 1,
     "solution": true
    }
   },
   "outputs": [],
   "source": [
    "### GRADED\n",
    "season_and_trend = ''\n",
    "\n",
    "### BEGIN SOLUTION\n",
    "season_and_trend = results.seasonal + results.trend\n",
    "### END SOLUTION\n",
    "\n",
    "## Answer Check\n",
    "# plt.plot(season_and_trend['1992':], label = 'seasonal + trend')\n",
    "# plt.plot(y_hist['1992':], label = 'actual')\n",
    "# plt.grid()\n",
    "# plt.legend()\n",
    "# plt.xticks(rotation = 90);"
   ]
  },
  {
   "cell_type": "code",
   "execution_count": 53,
   "metadata": {
    "nbgrader": {
     "grade": true,
     "grade_id": "cell-94deb79282a8a10d",
     "locked": true,
     "points": 10,
     "schema_version": 1,
     "solution": false
    }
   },
   "outputs": [],
   "source": [
    "### BEGIN HIDDEN TESTS\n",
    "season_and_trend_ = results.seasonal + results.trend\n",
    "#\n",
    "#\n",
    "#\n",
    "pd.testing.assert_series_equal(season_and_trend, season_and_trend_)\n",
    "### END HIDDEN TESTS"
   ]
  },
  {
   "cell_type": "markdown",
   "metadata": {
    "nbgrader": {
     "grade": false,
     "grade_id": "cell-a35de468e7b47b8a",
     "locked": true,
     "schema_version": 1,
     "solution": false
    }
   },
   "source": [
    "### Problem 4\n",
    "\n",
    "#### Examining the residuals\n",
    "\n",
    "**5 Points**\n",
    "\n",
    "The `results` object also contains information on the residuals in the `.resid` attribute.  Use the plot below to determine if the residuals are stationary or not.  Assign your answer as a string `yes` or `no` to `stationary` below."
   ]
  },
  {
   "cell_type": "code",
   "execution_count": 12,
   "metadata": {},
   "outputs": [
    {
     "data": {
      "image/png": "[encoded data removed]",
      "text/plain": [
       "<Figure size 432x288 with 1 Axes>"
      ]
     },
     "metadata": {
      "needs_background": "light"
     },
     "output_type": "display_data"
    }
   ],
   "source": [
    "plt.plot(results.resid)\n",
    "plt.grid()\n",
    "plt.title('Stationary or Not?');"
   ]
  },
  {
   "cell_type": "code",
   "execution_count": 49,
   "metadata": {
    "nbgrader": {
     "grade": false,
     "grade_id": "cell-8452d0a298be50b2",
     "locked": false,
     "schema_version": 1,
     "solution": true
    }
   },
   "outputs": [
    {
     "name": "stdout",
     "output_type": "stream",
     "text": [
      "Is it stationary: yes\n"
     ]
    }
   ],
   "source": [
    "### GRADED\n",
    "\n",
    "stationary = ''\n",
    "\n",
    "### BEGIN SOLUTION\n",
    "stationary = 'yes'\n",
    "### END SOLUTION\n",
    "\n",
    "# Answer check\n",
    "print(f'Is it stationary: {stationary}')"
   ]
  },
  {
   "cell_type": "code",
   "execution_count": 50,
   "metadata": {
    "nbgrader": {
     "grade": true,
     "grade_id": "cell-2f6c733ec87bd9d2",
     "locked": true,
     "points": 5,
     "schema_version": 1,
     "solution": false
    }
   },
   "outputs": [],
   "source": [
    "### BEGIN HIDDEN TESTS\n",
    "stationary_ = 'yes'\n",
    "#\n",
    "#\n",
    "#\n",
    "assert type(stationary_) == type(stationary)\n",
    "assert stationary_ == stationary\n",
    "### END HIDDEN TESTS"
   ]
  },
  {
   "cell_type": "markdown",
   "metadata": {
    "nbgrader": {
     "grade": false,
     "grade_id": "cell-05657f43edad7da7",
     "locked": true,
     "schema_version": 1,
     "solution": false
    }
   },
   "source": [
    "[Back to top](#Index)\n",
    "\n",
    "### Problem 5\n",
    "\n",
    "#### Examining Error in Forecast\n",
    "\n",
    "**5 Points**\n",
    "\n",
    "\n",
    "Finally, to use statsmodels to forecast we will use the `STLForecast` object together with the `ARIMA` model.  This is a model you will discuss in the coming videos, but essentially it helps to extend the trend from the historical data.  Once the estimator is fit on the historical data, a forecast for the future is generated by using the `.forecast` method and passing it the number of time steps forward to project.  \n",
    "\n",
    "Below, you are to use the `y_future` and `forecast` to determine the prediction error as\n",
    "\n",
    "```\n",
    "y_future.value - forecast\n",
    "```\n",
    "\n",
    "Use this to compute the Mean Absolute Error and Root Mean Squared Error as `mae` and `rmse` respectively."
   ]
  },
  {
   "cell_type": "code",
   "execution_count": 34,
   "metadata": {},
   "outputs": [],
   "source": [
    "#instantiate\n",
    "stlf = STLForecast(y_hist, ARIMA, model_kwargs={'order':(1, 1, 0), 'trend':\"t\"})\n",
    "#fit model using historical data\n",
    "stlf_results = stlf.fit()\n",
    "#produce forecast for future data\n",
    "forecast = stlf_results.forecast(len(y_future))"
   ]
  },
  {
   "cell_type": "code",
   "execution_count": 48,
   "metadata": {},
   "outputs": [
    {
     "data": {
      "image/png": "[encoded data removed]",
      "text/plain": [
       "<Figure size 432x288 with 1 Axes>"
      ]
     },
     "metadata": {
      "needs_background": "light"
     },
     "output_type": "display_data"
    }
   ],
   "source": [
    "plt.plot(y_future, label = 'true future data')\n",
    "plt.plot(forecast, label = 'forecast')\n",
    "plt.plot(y_hist['1993':], label = 'training data')\n",
    "plt.legend()\n",
    "plt.title('Forecast with STL and Future Data')\n",
    "plt.grid();"
   ]
  },
  {
   "cell_type": "code",
   "execution_count": 47,
   "metadata": {
    "nbgrader": {
     "grade": false,
     "grade_id": "cell-117318be6a4bad6c",
     "locked": false,
     "schema_version": 1,
     "solution": true
    }
   },
   "outputs": [
    {
     "name": "stdout",
     "output_type": "stream",
     "text": [
      "MAE: 0.6708979300020812\n",
      "RMSE: 0.7560628531356849\n"
     ]
    }
   ],
   "source": [
    "### GRADED\n",
    "pred_error = ''\n",
    "mae = ''\n",
    "rmse = ''\n",
    "\n",
    "### BEGIN SOLUTION\n",
    "pred_error = y_future.value - forecast\n",
    "mae = np.abs(pred_error).mean()\n",
    "rmse = np.sqrt((pred_error**2).mean())\n",
    "### END SOLUTION\n",
    "\n",
    "# Answer check\n",
    "print(f'MAE: {mae}')\n",
    "print(f'RMSE: {rmse}')"
   ]
  },
  {
   "cell_type": "code",
   "execution_count": 51,
   "metadata": {
    "nbgrader": {
     "grade": true,
     "grade_id": "cell-30982d10db5aee11",
     "locked": true,
     "points": 5,
     "schema_version": 1,
     "solution": false
    }
   },
   "outputs": [],
   "source": [
    "### BEGIN HIDDEN TESTS\n",
    "pred_error_ = y_future_.value - forecast\n",
    "mae_ = np.abs(pred_error_).mean()\n",
    "rmse_ = np.sqrt((pred_error_**2).mean())\n",
    "#\n",
    "#\n",
    "#\n",
    "pd.testing.assert_series_equal(pred_error, pred_error_)\n",
    "assert mae == mae_, 'MAE is different'\n",
    "assert rmse == rmse_, 'RMSE is different'\n",
    "### END HIDDEN TESTS"
   ]
  }
 ],
 "metadata": {
  "celltoolbar": "Create Assignment",
  "kernelspec": {
   "display_name": "Python 3",
   "language": "python",
   "name": "python3"
  },
  "language_info": {
   "codemirror_mode": {
    "name": "ipython",
    "version": 3
   },
   "file_extension": ".py",
   "mimetype": "text/x-python",
   "name": "python",
   "nbconvert_exporter": "python",
   "pygments_lexer": "ipython3",
   "version": "3.6.9"
  },
  "widgets": {
   "application/vnd.jupyter.widget-state+json": {
    "state": {},
    "version_major": 2,
    "version_minor": 0
   }
  }
 },
 "nbformat": 4,
 "nbformat_minor": 4
}
